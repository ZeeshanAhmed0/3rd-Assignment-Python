{
 "cells": [
  {
   "cell_type": "code",
   "execution_count": 1,
   "id": "618c915d",
   "metadata": {},
   "outputs": [
    {
     "name": "stdout",
     "output_type": "stream",
     "text": [
      "Twinkle, twinkle, little star, \n",
      "\tHow I wonder what you are! \n",
      "\t\tUp above the world so high, \n",
      "\t\tLike a diamond in the sky. \n",
      "Twinkle, twinkle, little star, \n",
      "\tHow I wonder what you are!\n"
     ]
    }
   ],
   "source": [
    "# Q1:Write a Python program to print the following string in a specific format (see the output)?\n",
    "\n",
    "\"\"\"Twinkle, twinkle, little star,\n",
    "How I wonder what you are!\n",
    "Up above the world so high,\n",
    "Like a diamond in the sky.\n",
    "\n",
    "Twinkle, twinkle, little star,\n",
    "How I wonder what you are\"\"\"\n",
    "\n",
    "print(\"Twinkle, twinkle, little star, \\n\\tHow I wonder what you are! \\n\\t\\tUp above the world so high, \\n\\t\\tLike a diamond in the sky. \\nTwinkle, twinkle, little star, \\n\\tHow I wonder what you are!\");"
   ]
  },
  {
   "cell_type": "code",
   "execution_count": 2,
   "id": "d6b2afb8",
   "metadata": {},
   "outputs": [
    {
     "name": "stdout",
     "output_type": "stream",
     "text": [
      "3.8.8 (default, Apr 13 2021, 15:08:03) [MSC v.1916 64 bit (AMD64)]\n"
     ]
    }
   ],
   "source": [
    "# Q2:Write a Python program to get the Python version you are using?\n",
    "\n",
    "import sys;\n",
    "print(sys.version);"
   ]
  },
  {
   "cell_type": "code",
   "execution_count": 3,
   "id": "bba20e28",
   "metadata": {},
   "outputs": [
    {
     "name": "stdout",
     "output_type": "stream",
     "text": [
      "Current date and time: \n",
      "2021-10-24 10:54:42\n"
     ]
    }
   ],
   "source": [
    "# Q3:Write a Python program to display the current date and time?\n",
    "\n",
    "import datetime;\n",
    "now = datetime.datetime.now();\n",
    "print (\"Current date and time: \");\n",
    "print (now.strftime(\"%Y-%m-%d %H:%M:%S\"));"
   ]
  },
  {
   "cell_type": "code",
   "execution_count": 4,
   "id": "8e22c988",
   "metadata": {},
   "outputs": [
    {
     "name": "stdout",
     "output_type": "stream",
     "text": [
      "Input the radius of the circle : 2\n",
      "The area of the circle with radius 2.0 is: 12.566370614359172\n"
     ]
    }
   ],
   "source": [
    "# Q4:Write a Python program which accepts the radius of a circle from the user and compute the area?\n",
    "\n",
    "from math import pi;\n",
    "r = float(input (\"Input the radius of the circle : \"));\n",
    "print (\"The area of the circle with radius \" + str(r) + \" is: \" + str(pi * r**2));"
   ]
  },
  {
   "cell_type": "code",
   "execution_count": 5,
   "id": "a020664d",
   "metadata": {},
   "outputs": [
    {
     "name": "stdout",
     "output_type": "stream",
     "text": [
      "Input your First Name : Zeeshan\n",
      "Input your Last Name : Ahmed\n",
      "Hello  Ahmed Zeeshan\n"
     ]
    }
   ],
   "source": [
    "# Q5:Write a Python program which accepts the user's first and last name and print them in reverse order with a space between them?\n",
    "\n",
    "firstname = input(\"Input your First Name : \");\n",
    "lastname = input(\"Input your Last Name : \");\n",
    "print (\"Hello  \" + lastname + \" \" + firstname);"
   ]
  },
  {
   "cell_type": "code",
   "execution_count": 6,
   "id": "ff4e302d",
   "metadata": {},
   "outputs": [
    {
     "name": "stdout",
     "output_type": "stream",
     "text": [
      "enter first number: 43\n",
      "enter second number: 986\n",
      "sum: 1029\n"
     ]
    }
   ],
   "source": [
    "# Q6:Write a python program which takes two inputs from user and print them addition?\n",
    "\n",
    "a = int(input(\"enter first number: \"));\n",
    "b = int(input(\"enter second number: \"));\n",
    "sum = a + b;\n",
    "print(\"sum:\", sum);"
   ]
  },
  {
   "cell_type": "code",
   "execution_count": 7,
   "id": "bcaf7f82",
   "metadata": {},
   "outputs": [
    {
     "name": "stdout",
     "output_type": "stream",
     "text": [
      "Enter english Marks67\n",
      "Enter islamiat Marks87\n",
      "Enter maths Marks93\n",
      "Enter physics Marks75\n",
      "Enter computer Marks60\n",
      "A\n"
     ]
    }
   ],
   "source": [
    "# Q7:Write a program which takes 5 inputs from user for different subject’s marks, total it and generate mark sheet using grades?\n",
    "\n",
    "english = int(input(\"Enter english Marks\"));\n",
    "islamiat = int(input(\"Enter islamiat Marks\"));\n",
    "maths = int(input(\"Enter maths Marks\"));\n",
    "physics = int(input(\"Enter physics Marks\"));\n",
    "computer = int(input(\"Enter computer Marks\"));\n",
    "obtained_marks = english + islamiat + maths + physics + computer;\n",
    "total_marks = 500;\n",
    "percentage = (obtained_marks / total_marks) * 100\n",
    "\n",
    "if percentage < 100 and percentage >= 80:\n",
    "    pint(\"A+\");\n",
    "elif percentage < 80 and percentage >= 70:\n",
    "    print(\"A\");\n",
    "elif percentage < 70 and percentage >= 60:\n",
    "    print(\"B\");\n",
    "elif percentage < 60 and percentage >= 50:\n",
    "    print(\"C\");\n",
    "elif percentage < 50 and percentage >= 40:\n",
    "    print(\"D\");\n",
    "elif percentage < 40 and percentage >= 33:\n",
    "      print(\"E\");\n",
    "elif percent < 0 and percent >= 100: \n",
    "    print(\"You did not write correct percent\");\n",
    "else:\n",
    "    print(\"Fail\");"
   ]
  },
  {
   "cell_type": "code",
   "execution_count": 8,
   "id": "0bfc4bfb",
   "metadata": {},
   "outputs": [
    {
     "name": "stdout",
     "output_type": "stream",
     "text": [
      "Enter a number: 35\n",
      "This is an odd number.\n"
     ]
    }
   ],
   "source": [
    "# Q8:Write a program which take input from user and identify that the given number is even or odd?\n",
    "\n",
    "num = int(input(\"Enter a number: \"));\n",
    "mod = num % 2;\n",
    "if mod > 0:\n",
    "    print(\"This is an odd number.\");\n",
    "else:\n",
    "    print(\"This is an even number.\");"
   ]
  },
  {
   "cell_type": "code",
   "execution_count": 12,
   "id": "143d752d",
   "metadata": {},
   "outputs": [
    {
     "name": "stdout",
     "output_type": "stream",
     "text": [
      "The length of the list [11, 22, 33, 44, 55, 66] is : 6\n"
     ]
    }
   ],
   "source": [
    "# Q9:Write a program which print the length of the list?\n",
    "\n",
    "list=[11,22,33,44,55,66];\n",
    "print(\"The length of the list\",list, \"is :\",len(list));"
   ]
  },
  {
   "cell_type": "code",
   "execution_count": 16,
   "id": "dd0c5ca4",
   "metadata": {},
   "outputs": [
    {
     "name": "stdout",
     "output_type": "stream",
     "text": [
      "sum of all element in given list 73\n"
     ]
    }
   ],
   "source": [
    "# Q10:Write a Python program to sum all the numeric items in a list?\n",
    "\n",
    "list = [20,12,41];\n",
    "total = sum(list);\n",
    "print(\"sum of all element in given list\",total);"
   ]
  },
  {
   "cell_type": "code",
   "execution_count": 17,
   "id": "c6e16d5d",
   "metadata": {},
   "outputs": [
    {
     "name": "stdout",
     "output_type": "stream",
     "text": [
      "Largest number is: 99\n"
     ]
    }
   ],
   "source": [
    "# Q11:Write a Python program to get the largest number from a numeric list?\n",
    "\n",
    "list1 = [10, 20, 4, 45, 99];\n",
    "print(\"Largest number is:\", list1[-1]);"
   ]
  },
  {
   "cell_type": "code",
   "execution_count": 18,
   "id": "5556d43f",
   "metadata": {},
   "outputs": [
    {
     "name": "stdout",
     "output_type": "stream",
     "text": [
      "1\n",
      "1\n",
      "2\n",
      "3\n"
     ]
    }
   ],
   "source": [
    "# Q12:Take a list, say for example this one:\n",
    "\"\"\"a = [1, 1, 2, 3, 5, 8, 13, 21, 34, 55, 89]\n",
    "Write a program that prints out all the elements of the list that are less than 5?\"\"\"\n",
    "\n",
    "a = [1, 1, 2, 3, 5, 8, 13, 21, 34, 55, 89];\n",
    "for i in a:\n",
    "    if i < 5:\n",
    "        print(i);"
   ]
  }
 ],
 "metadata": {
  "kernelspec": {
   "display_name": "Python 3",
   "language": "python",
   "name": "python3"
  },
  "language_info": {
   "codemirror_mode": {
    "name": "ipython",
    "version": 3
   },
   "file_extension": ".py",
   "mimetype": "text/x-python",
   "name": "python",
   "nbconvert_exporter": "python",
   "pygments_lexer": "ipython3",
   "version": "3.8.8"
  }
 },
 "nbformat": 4,
 "nbformat_minor": 5
}
